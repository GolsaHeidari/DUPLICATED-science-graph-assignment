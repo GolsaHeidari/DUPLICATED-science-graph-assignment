{
 "cells": [
  {
   "cell_type": "code",
   "execution_count": 1,
   "metadata": {},
   "outputs": [
    {
     "name": "stdout",
     "output_type": "stream",
     "text": [
      "Requirement already satisfied: rdflib in c:\\users\\shiraz 1\\anaconda\\lib\\site-packages (4.2.2)\n",
      "Requirement already satisfied: isodate in c:\\users\\shiraz 1\\anaconda\\lib\\site-packages (from rdflib) (0.6.0)\n",
      "Requirement already satisfied: pyparsing in c:\\users\\shiraz 1\\anaconda\\lib\\site-packages (from rdflib) (2.3.1)\n",
      "Requirement already satisfied: six in c:\\users\\shiraz 1\\anaconda\\lib\\site-packages (from isodate->rdflib) (1.12.0)\n"
     ]
    }
   ],
   "source": [
    "\n",
    "!pip install rdflib\n",
    "\n",
    "import rdflib\n",
    "import numpy as np\n",
    "import pandas as pd\n",
    "import matplotlib.pyplot as plt\n",
    "\n",
    "from scipy import stats\n",
    "from scipy.stats import ttest_ind\n",
    "from rdflib.namespace import RDF, XSD\n",
    "from rdflib.serializer import Serializer\n",
    "from rdflib import Graph, URIRef, Literal, BNode\n",
    " "
   ]
  },
  {
   "cell_type": "code",
   "execution_count": 2,
   "metadata": {},
   "outputs": [
    {
     "name": "stdout",
     "output_type": "stream",
     "text": [
      "The P-value is : 5.3187252634905425e-05\n",
      "So We Reject Null Hypothesis.\n"
     ]
    },
    {
     "data": {
      "text/plain": [
       "<matplotlib.axes._subplots.AxesSubplot at 0x1cb02622208>"
      ]
     },
     "execution_count": 2,
     "metadata": {},
     "output_type": "execute_result"
    },
    {
     "data": {
      "image/png": "[encoded data removed]",
      "text/plain": [
       "<Figure size 432x288 with 1 Axes>"
      ]
     },
     "metadata": {
      "needs_background": "light"
     },
     "output_type": "display_data"
    }
   ],
   "source": [
    "# Run the T-test for the means of two independent samples using the example data\n",
    "\n",
    "labels = ['Non-Failing Heart (NF)','Failing Heart (F)']\n",
    "data = [(95,50), (103,35), (99,21), (np.nan,15), (np.nan,7), (np.nan,40)]\n",
    "\n",
    "df = pd.DataFrame.from_records(data, columns = labels)\n",
    "tt = ttest_ind(df['Non-Failing Heart (NF)'],df[ 'Failing Heart (F)'],equal_var=False, nan_policy='omit')\n",
    "\n",
    "print('The P-value is :', tt.pvalue)\n",
    "\n",
    "if tt.pvalue <0.05:\n",
    "  print(\"So We Reject Null Hypothesis.\")\n",
    "else:\n",
    "  print(\"So We Accept Null Hypothesis.\")\n",
    "\n",
    "#drawing a boxplot for this T_test\n",
    "df[['Non-Failing Heart (NF)','Failing Heart (F)']].plot(kind='box')"
   ]
  },
  {
   "cell_type": "code",
   "execution_count": 6,
   "metadata": {},
   "outputs": [
    {
     "name": "stdout",
     "output_type": "stream",
     "text": [
      "<?xml version=\"1.0\" encoding=\"utf-8\"?>\n",
      "<rdf:RDF\n",
      "  xmlns:obo=\"http://purl.obolibrary.org/obo/\"\n",
      "  xmlns:rdf=\"http://www.w3.org/1999/02/22-rdf-syntax-ns#\"\n",
      ">\n",
      "  <obo:STATO_0000304 rdf:nodeID=\"N2f71c056fb894fefa74762f55aca9643\">\n",
      "    <obo:OBI_0000293>\n",
      "      <obo:GO_0030350 rdf:nodeID=\"N76269b157f184769aab3780ff3952bb3\"/>\n",
      "    </obo:OBI_0000293>\n",
      "    <obo:OBI_0000299>\n",
      "      <obo:OBI_0000175 rdf:nodeID=\"Nb68791e22191417eaa5a15352e6c95da\">\n",
      "        <obo:OBI_0001938>\n",
      "          <obo:OBI_0001931 rdf:nodeID=\"Ne6d62006a204420fa865203e79d7aaa0\">\n",
      "            <obo:OBI_0001937 rdf:datatype=\"http://www.w3.org/2001/XMLSchema#double\">5.3187252634905425e-05</obo:OBI_0001937>\n",
      "          </obo:OBI_0001931>\n",
      "        </obo:OBI_0001938>\n",
      "      </obo:OBI_0000175>\n",
      "    </obo:OBI_0000299>\n",
      "  </obo:STATO_0000304>\n",
      "</rdf:RDF>\n",
      "\n"
     ]
    }
   ],
   "source": [
    "# Describe the statistical hypothesis test in machine readable form\n",
    "\n",
    "# First, we initialize an RDF Graph and bind some prefixes\n",
    "\n",
    "g = Graph()\n",
    "g.bind('obo', 'http://purl.obolibrary.org/obo/')\n",
    "g.bind('ex', 'http://example.org/')\n",
    "\n",
    "# Next, we define some needed vocabulary\n",
    "obo = dict()\n",
    "obo['two sample t-test with unequal variance'] = URIRef('http://purl.obolibrary.org/obo/STATO_0000304')\n",
    "obo['has specified input'] = URIRef('http://purl.obolibrary.org/obo/OBI_0000293')\n",
    "obo['has specified output'] = URIRef('http://purl.obolibrary.org/obo/OBI_0000299')\n",
    "obo['p-value'] = URIRef('http://purl.obolibrary.org/obo/OBI_0000175')\n",
    "obo['has value specification'] = URIRef('http://purl.obolibrary.org/obo/OBI_0001938')\n",
    "obo['scalar value specification'] = URIRef('http://purl.obolibrary.org/obo/OBI_0001931')\n",
    "obo['has specified numeric value'] = URIRef('http://purl.obolibrary.org/obo/OBI_0001937')\n",
    "obo['iron-responsive element binding'] = URIRef('http://purl.obolibrary.org/obo/GO_0030350')\n",
    "\n",
    "# Now, populate the graph with statements\n",
    "# As an example, the following statement types the resource (blank node) 'n1' as 'two sample t-test with unequal variance'\n",
    "n1 = BNode()\n",
    "g.add((n1, RDF.type, obo['two sample t-test with unequal variance']))\n",
    "\n",
    "# Now, state that the t-test has iron-responsive element binding as a specified input (one statement to complete)\n",
    "n2 = BNode()\n",
    "g.add((n1, obo['has specified input'], n2))\n",
    "g.add((n2, RDF.type, obo['iron-responsive element binding']))\n",
    "\n",
    "# Next, state that the t-test has the p-value computed above as a specified output (two statements to complete)\n",
    "n3 = BNode()\n",
    "g.add((n1, obo['has specified output'], n3))\n",
    "g.add((n3, RDF.type, obo['p-value']))\n",
    "\n",
    "# The literal value of the p-value is represented as a scalar value specification with a specified numeric value (three statements to complete)\n",
    "n4 = BNode()\n",
    "g.add((n4, RDF.type, obo['scalar value specification']))\n",
    "g.add((n3, obo['has value specification'], n4))\n",
    "\n",
    "# Type the literal as double\n",
    "g.add((n4, obo['has specified numeric value'], Literal(tt.pvalue, datatype = XSD.double)))\n",
    "\n",
    "\n",
    "# Finally, serialize and print the graph in RDF/XML format\n",
    "\n",
    "print(g.serialize(format=\"pretty-xml\").decode('utf-8'))\n",
    "\n",
    "\n",
    "    "
   ]
  },
  {
   "cell_type": "code",
   "execution_count": 4,
   "metadata": {},
   "outputs": [
    {
     "name": "stdout",
     "output_type": "stream",
     "text": [
      "5.3187252634905425e-05\n"
     ]
    }
   ],
   "source": [
    "# Process the machine readable statistical hypothesis test by completing the following SPARQL query that returns the p-value\n",
    "\n",
    "q = \"\"\"\n",
    "PREFIX obo: <http://purl.obolibrary.org/obo/>\n",
    "\n",
    "SELECT ?pvalue WHERE {\n",
    "  ?r a obo:STATO_0000304 .\n",
    "  ?r obo:OBI_0000293 [ a obo:GO_0030350 ].\n",
    "  ?r obo:OBI_0000299 [\n",
    "  a obo:OBI_0000175 ;\n",
    "        obo:OBI_0001938 [\n",
    "            a obo:OBI_0001931 ;\n",
    "            obo:OBI_0001937 ?pvalue\n",
    "        ] \n",
    "      ].\n",
    "  FILTER (?pvalue < 0.005)\n",
    "}\n",
    "\"\"\"\n",
    "\n",
    "for qs in g.query(q):\n",
    "   print(qs[0])\n"
   ]
  }
 ],
 "metadata": {
  "kernelspec": {
   "display_name": "Python 3",
   "language": "python",
   "name": "python3"
  },
  "language_info": {
   "codemirror_mode": {
    "name": "ipython",
    "version": 3
   },
   "file_extension": ".py",
   "mimetype": "text/x-python",
   "name": "python",
   "nbconvert_exporter": "python",
   "pygments_lexer": "ipython3",
   "version": "3.7.3"
  }
 },
 "nbformat": 4,
 "nbformat_minor": 2
}
